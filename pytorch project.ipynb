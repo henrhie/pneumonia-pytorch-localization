{
 "cells": [
  {
   "cell_type": "code",
   "execution_count": 1,
   "metadata": {},
   "outputs": [],
   "source": [
    "###import packages for project\n",
    "\n",
    "import torch\n",
    "import torchvision\n",
    "import torch.nn as nn\n",
    "import torch.optim as optim\n",
    "import torchvision.transforms as transforms\n",
    "import numpy as np\n",
    "import matplotlib.pyplot as plt\n",
    "import copy\n",
    "import time\n",
    "import PIL\n",
    "import scipy.ndimage as nd"
   ]
  },
  {
   "cell_type": "code",
   "execution_count": null,
   "metadata": {},
   "outputs": [],
   "source": [
    "## data augmentation with torchvision.transforms\n",
    "\n",
    "transformers = {'train_transforms' : transforms.Compose([\n",
    "    transforms.Resize(224),\n",
    "    transforms.CenterCrop(224),\n",
    "    transforms.RandomRotation(20),\n",
    "    transforms.RandomHorizontalFlip(),\n",
    "    transforms.ToTensor(),\n",
    "    transforms.Normalize([0.5,0.5,0.5],[0.5,0.5,0.5])\n",
    "]),\n",
    "'test_transforms' : transforms.Compose([\n",
    "    transforms.Resize(224),\n",
    "    transforms.CenterCrop(224),\n",
    "    transforms.ToTensor(),\n",
    "    transforms.Normalize([0.5,0.5,0.5],[0.5,0.5,0.5])\n",
    "]),\n",
    "'valid_transforms' : transforms.Compose([\n",
    "    transforms.Resize(224),\n",
    "    transforms.CenterCrop(224),\n",
    "    transforms.ToTensor(),\n",
    "    transforms.Normalize([0.5,0.5,0.5],[0.5,0.5,0.5])\n",
    "])}"
   ]
  },
  {
   "cell_type": "code",
   "execution_count": null,
   "metadata": {},
   "outputs": [],
   "source": [
    "trans = ['train_transforms','valid_transforms','test_transforms']"
   ]
  },
  {
   "cell_type": "code",
   "execution_count": null,
   "metadata": {},
   "outputs": [],
   "source": [
    "path = \"datasets/chest_xray/chest_xray/\"\n",
    "categories = ['train','val','test']\n",
    "dset = {x : torchvision.datasets.ImageFolder(path+x, transform=transformers[y]) for x,y in zip(categories, trans)}"
   ]
  },
  {
   "cell_type": "code",
   "execution_count": null,
   "metadata": {},
   "outputs": [],
   "source": [
    "dataset_sizes['train']"
   ]
  },
  {
   "cell_type": "code",
   "execution_count": null,
   "metadata": {},
   "outputs": [],
   "source": [
    "num_threads = 0\n",
    "dataloaders =  {x : torch.utils.data.DataLoader(dset[x], batch_size=16, shuffle=True, num_workers=num_threads)\n",
    "               for x in categories}"
   ]
  },
  {
   "cell_type": "code",
   "execution_count": null,
   "metadata": {},
   "outputs": [],
   "source": [
    "dataset_sizes = {x : len(dset[x]) for x in [\"train\",\"test\",\"val\"]}"
   ]
  },
  {
   "cell_type": "code",
   "execution_count": 7,
   "metadata": {},
   "outputs": [],
   "source": [
    "##Build model\n",
    "class Model(nn.Module):\n",
    "    def __init__(self):\n",
    "        super(Model, self).__init__()\n",
    "        self.model = torchvision.models.resnet152(pretrained=True)\n",
    "        self.classifier = nn.Sequential(\n",
    "            nn.Linear(self.model.fc.in_features,2),\n",
    "            nn.LogSoftmax(dim=1)\n",
    "        )\n",
    "        for params in self.model.parameters():\n",
    "            params.requires_grad = False\n",
    "        self.model.fc = self.classifier\n",
    "        \n",
    "    def forward(self, x):\n",
    "        return self.model(x)\n",
    "    \n",
    "    def fit(self, dataloaders, num_epochs):\n",
    "        train_on_gpu = torch.cuda.is_available()\n",
    "        optimizer = optim.Adam(self.model.fc.parameters())\n",
    "        scheduler = optim.lr_scheduler.StepLR(optimizer, 4)\n",
    "        criterion = nn.NLLLoss()\n",
    "        since = time.time()\n",
    "        \n",
    "        best_model_wts = copy.deepcopy(self.model.state_dict())\n",
    "        best_acc =0.0\n",
    "        if train_on_gpu:\n",
    "            self.model = self.model.cuda()\n",
    "        for epoch in range(1, num_epochs+1):\n",
    "            print(\"epoch {}/{}\".format(epoch, num_epochs))\n",
    "            print(\"-\" * 10)\n",
    "            \n",
    "            for phase in ['train','test']:\n",
    "                if phase == 'train':\n",
    "                    scheduler.step()\n",
    "                    self.model.train()\n",
    "                else:\n",
    "                    self.model.eval()\n",
    "                \n",
    "                running_loss = 0.0\n",
    "                running_corrects = 0.0\n",
    "                \n",
    "                for inputs, labels in dataloaders[phase]:\n",
    "                    if train_on_gpu:\n",
    "                        inputs = inputs.cuda()\n",
    "                        labels = labels.cuda()\n",
    "                    optimizer.zero_grad()\n",
    "                    \n",
    "                    with torch.set_grad_enabled(phase == 'train'):\n",
    "                        outputs = self.model(inputs)\n",
    "                        _, preds = torch.max(outputs, 1)\n",
    "                        loss = criterion(outputs, labels)\n",
    "                        \n",
    "                        if phase == 'train':\n",
    "                            loss.backward()\n",
    "                            optimizer.step()\n",
    "                    \n",
    "                    running_loss += loss.item() * inputs.size(0)\n",
    "                    running_corrects += torch.sum(preds == labels.data)\n",
    "                \n",
    "                epoch_loss = running_loss / dataset_sizes[phase]\n",
    "                epoch_acc = running_corrects.double() / dataset_sizes[phase]\n",
    "                print(\"{} loss:  {:.4f}  acc: {:.4f}\".format(phase, epoch_loss, epoch_acc))\n",
    "                \n",
    "                if phase == 'test' and epoch_acc > best_acc:\n",
    "                    best_acc = epoch_acc\n",
    "                    best_model_wts = copy.deepcopy(self.model.state_dict())\n",
    "        \n",
    "        time_elapsed = time.time() - since\n",
    "        print('time completed: {:.0f}m {:.0f}s'.format(\n",
    "        time_elapsed // 60, time_elapsed % 600))\n",
    "        print(\"best val acc: {:.4f}\".format(best_acc))\n",
    "        \n",
    "        self.model.load_state_dict(best_model_wts)\n",
    "        return self.model"
   ]
  },
  {
   "cell_type": "code",
   "execution_count": 8,
   "metadata": {},
   "outputs": [],
   "source": [
    "model = Model()"
   ]
  },
  {
   "cell_type": "code",
   "execution_count": null,
   "metadata": {},
   "outputs": [],
   "source": [
    "model_ft = model.fit(dataloaders,1)"
   ]
  },
  {
   "cell_type": "code",
   "execution_count": 9,
   "metadata": {},
   "outputs": [],
   "source": [
    "state_dict = torch.load(\"c:/users/henry/desktop/devs/tuts/PyTorch_project.pth\")\n",
    "model.model.load_state_dict(state_dict)\n",
    "model_ft = model.model"
   ]
  },
  {
   "cell_type": "code",
   "execution_count": 10,
   "metadata": {},
   "outputs": [],
   "source": [
    "loader = transforms.Compose([transforms.Resize((224,224)), transforms.ToTensor(),\n",
    "                            transforms.Normalize([0.5,0.5,0.5],[0.5,0.5,0.5])])\n",
    "def image_loader(image_name):\n",
    "    image = PIL.Image.open(image_name).convert(\"RGB\")\n",
    "    image = loader(image).float()\n",
    "    image = image.unsqueeze(0)\n",
    "    return image"
   ]
  },
  {
   "cell_type": "code",
   "execution_count": 12,
   "metadata": {},
   "outputs": [],
   "source": [
    "image_path = 'c:/users/henry/datasets/chest_xray/chest_xray/test/PNEUMONIA/person1949_bacteria_4880.jpeg'\n",
    "img = image_loader(image_path)"
   ]
  },
  {
   "cell_type": "code",
   "execution_count": 13,
   "metadata": {},
   "outputs": [],
   "source": [
    "class LayerActivations():\n",
    "    features=[]\n",
    "    def __init__(self,model):\n",
    "        self.hooks = []\n",
    "        self.hooks.append(model.layer4.register_forward_hook(self.hook_fn))\n",
    "    def hook_fn(self,module,input,output):\n",
    "        self.features.append(output)\n",
    "    def remove(self):\n",
    "        for hook in self.hooks:\n",
    "            hook.remove()"
   ]
  },
  {
   "cell_type": "code",
   "execution_count": 14,
   "metadata": {},
   "outputs": [],
   "source": [
    "acts = LayerActivations(model_ft)"
   ]
  },
  {
   "cell_type": "code",
   "execution_count": 15,
   "metadata": {},
   "outputs": [],
   "source": [
    "logps = model_ft(img)\n",
    "ps = torch.exp(logps)"
   ]
  },
  {
   "cell_type": "code",
   "execution_count": 21,
   "metadata": {},
   "outputs": [],
   "source": [
    "out_features = acts.features[0]\n",
    "out_features = torch.squeeze(out_features, dim=0)\n",
    "out_features = np.transpose(out_features,axes=(1,2,0))"
   ]
  },
  {
   "cell_type": "code",
   "execution_count": 22,
   "metadata": {},
   "outputs": [],
   "source": [
    "W = model_ft.fc[0].weight\n",
    "top_probs, top_classes = torch.topk(ps, k=2)\n",
    "pred = np.argmax(ps.detach())\n",
    "w = W[pred,:]"
   ]
  },
  {
   "cell_type": "code",
   "execution_count": 23,
   "metadata": {},
   "outputs": [],
   "source": [
    "cam = np.dot(out_features, w.detach())"
   ]
  },
  {
   "cell_type": "code",
   "execution_count": 24,
   "metadata": {},
   "outputs": [],
   "source": [
    "class_activation = nd.zoom(cam, zoom=(32,32),order=1)"
   ]
  },
  {
   "cell_type": "code",
   "execution_count": 26,
   "metadata": {},
   "outputs": [],
   "source": [
    "img = torch.squeeze(img,0)\n",
    "img = np.transpose(img,(1,2,0))\n",
    "mean = np.array([0.5,0.5,0.5])\n",
    "std =  np.array([0.5,0.5,0.5])\n",
    "img = img.numpy()\n",
    "img = (img + mean) * std\n",
    "img = np.clip(img, a_max=1, a_min=0)"
   ]
  },
  {
   "cell_type": "code",
   "execution_count": null,
   "metadata": {},
   "outputs": [],
   "source": [
    "plt.imshow(class_activation, cmap='jet',alpha=1)\n",
    "plt.imshow(img, alpha=0.55)\n",
    "plt.title(dset['test'].classes[pred])"
   ]
  },
  {
   "cell_type": "code",
   "execution_count": null,
   "metadata": {},
   "outputs": [],
   "source": []
  }
 ],
 "metadata": {
  "celltoolbar": "Raw Cell Format",
  "kernelspec": {
   "display_name": "Python 3",
   "language": "python",
   "name": "python3"
  },
  "language_info": {
   "codemirror_mode": {
    "name": "ipython",
    "version": 3
   },
   "file_extension": ".py",
   "mimetype": "text/x-python",
   "name": "python",
   "nbconvert_exporter": "python",
   "pygments_lexer": "ipython3",
   "version": "3.5.5"
  }
 },
 "nbformat": 4,
 "nbformat_minor": 2
}
